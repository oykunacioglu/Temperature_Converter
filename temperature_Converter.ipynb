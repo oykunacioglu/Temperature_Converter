{
  "nbformat": 4,
  "nbformat_minor": 0,
  "metadata": {
    "colab": {
      "provenance": [],
      "authorship_tag": "ABX9TyO4+kz6sWNU50ltr0bw8Cke",
      "include_colab_link": true
    },
    "kernelspec": {
      "name": "python3",
      "display_name": "Python 3"
    },
    "language_info": {
      "name": "python"
    }
  },
  "cells": [
    {
      "cell_type": "markdown",
      "metadata": {
        "id": "view-in-github",
        "colab_type": "text"
      },
      "source": [
        "<a href=\"https://colab.research.google.com/github/oykunacioglu/Temperature_Converter/blob/main/temperature_Converter.ipynb\" target=\"_parent\"><img src=\"https://colab.research.google.com/assets/colab-badge.svg\" alt=\"Open In Colab\"/></a>"
      ]
    },
    {
      "cell_type": "code",
      "execution_count": null,
      "metadata": {
        "colab": {
          "base_uri": "https://localhost:8080/"
        },
        "collapsed": true,
        "id": "NOnQZDLDt_lq",
        "outputId": "796fae86-b37b-4141-93f1-6b80be41c2e9"
      },
      "outputs": [
        {
          "output_type": "stream",
          "name": "stdout",
          "text": [
            "TEMPERATURE CONVERTER MENU\n",
            "1. Celsius to Fahrenheit & Kelvin\n",
            "2. Fahrenheit to Celsius & Kelvin\n",
            "3. Kelvin to Celsius & Fahrenheit\n",
            "4. Exit\n"
          ]
        }
      ],
      "source": [
        "def celsius_to_fahrenheit(celsius):\n",
        "    return (celsius * 9/5) + 32\n",
        "\n",
        "def celsius_to_kelvin(celsius):\n",
        "    return celsius + 273.15\n",
        "\n",
        "def fahrenheit_to_celsius(fahrenheit):\n",
        "    return (fahrenheit - 32) * 5/9\n",
        "\n",
        "def fahrenheit_to_kelvin(fahrenheit):\n",
        "    return (fahrenheit - 32) * 5/9 + 273.15\n",
        "\n",
        "def kelvin_to_celsius(kelvin):\n",
        "    return kelvin - 273.15\n",
        "\n",
        "def kelvin_to_fahrenheit(kelvin):\n",
        "    return (kelvin - 273.15) * 9/5 + 32\n",
        "\n",
        "\n",
        "def show_menu():\n",
        "  print(\"TEMPERATURE CONVERTER MENU\")\n",
        "  print(\"1. Celsius to Fahrenheit & Kelvin\")\n",
        "  print(\"2. Fahrenheit to Celsius & Kelvin\")\n",
        "  print(\"3. Kelvin to Celsius & Fahrenheit\")\n",
        "  print(\"4. Exit\")\n",
        "\n",
        "while True:\n",
        "  show_menu()\n",
        "  choice = input(\"Enter your choice (1/2/3/4): \")\n",
        "\n",
        "  if choice == '1':\n",
        "    celsius = float(input(\"Enter temperature in Celsius: \"))\n",
        "    print(f\"Fahrenheit: {celsius_to_fahrenheit(celsius):.2f}\")\n",
        "    print(f\"Kelvin: {celsius_to_kelvin(celsius):.2f}\")\n",
        "  elif choice == '2':\n",
        "    fahrenheit = float(input(\"Enter temperature in Fahrenheit: \"))\n",
        "    print(f\"Celsius: {fahrenheit_to_celsius(fahrenheit):.2f}\")\n",
        "    print(f\"Kelvin: {fahrenheit_to_kelvin(fahrenheit):.2f}\")\n",
        "  elif choice == '3':\n",
        "    kelvin = float(input(\"Enter temperature in Kelvin: \"))\n",
        "    print(f\"Celsius: {kelvin_to_celsius(kelvin):.2f}\")\n",
        "    print(f\"Fahrenheit: {kelvin_to_fahrenheit(kelvin):.2f}\")\n",
        "  elif choice == '4':\n",
        "    print(\"Exiting the program.\")\n",
        "    break\n",
        "  else:\n",
        "    print(\"Invalid choice. Please select a valid option (1/2/3/4).\")"
      ]
    }
  ]
}